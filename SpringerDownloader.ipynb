{
 "cells": [
  {
   "cell_type": "code",
   "execution_count": 1,
   "metadata": {},
   "outputs": [],
   "source": [
    "from bs4 import BeautifulSoup\n",
    "import requests\n",
    "import os\n",
    "import time\n",
    "import pandas as pd\n",
    "from clint.textui import progress\n",
    "import json"
   ]
  },
  {
   "cell_type": "code",
   "execution_count": 2,
   "metadata": {},
   "outputs": [],
   "source": [
    "data = pd.read_excel(\"Book_Links.xlsx\")"
   ]
  },
  {
   "cell_type": "code",
   "execution_count": 3,
   "metadata": {},
   "outputs": [],
   "source": [
    "links = data['OpenURL'].to_numpy()\n",
    "names = data['Book Title'].to_numpy()"
   ]
  },
  {
   "cell_type": "code",
   "execution_count": null,
   "metadata": {},
   "outputs": [],
   "source": [
    "base_link = 'https://link.springer.com/content/pdf/'\n",
    "download_no = 0\n",
    "fail_list = {}\n",
    "\n",
    "\n",
    "\n",
    "for number, name in enumerate(names):\n",
    "    print(\"Start Downloading \" + name)\n",
    "    current_link = links[number]\n",
    "    print(\"Its Link: \" + current_link)\n",
    "    \n",
    "    try:\n",
    "        enter_response = requests.get(current_link)\n",
    "        pdf_link = base_link + enter_response.url.split('/')[-1] + '.pdf'\n",
    "        print(\"PDF Link: \" + pdf_link)\n",
    "\n",
    "        start = time.time()\n",
    "\n",
    "        print(\"Downloading Begins...\")\n",
    "        pdf_response = requests.get(pdf_link, stream = True)\n",
    "        print(\"Get it!\")\n",
    "\n",
    "\n",
    "        print(\"Calculating Size...\")\n",
    "        total_length = int(pdf_response.headers.get('content-length'))\n",
    "        print('Total Length: ' + str(total_length))\n",
    "\n",
    "\n",
    "\n",
    "        with open('./Books/' + name + '.pdf', 'wb') as pdf_file:\n",
    "            for chunk in progress.bar(pdf_response.iter_content(chunk_size=100000), expected_size=(total_length/100000) + 1):\n",
    "                if chunk:\n",
    "                    pdf_file.write(chunk)\n",
    "                    pdf_file.flush()\n",
    "        print(name + ' Downloaded')\n",
    "\n",
    "        download_no += 1\n",
    "        print(\"Total: \" + str(download_no))\n",
    "\n",
    "        print(\"Used Time: \" + str(time.time() - start))\n",
    "        print(\"Finished Downloading.\")\n",
    "\n",
    "        time.sleep(0.1)\n",
    "    except:\n",
    "        print('Error!')\n",
    "        fail_list[name] = current_link\n",
    "\n",
    "with open('Fail.json', 'w') as fp:\n",
    "    json.dump(fail_list, fp)"
   ]
  },
  {
   "cell_type": "code",
   "execution_count": 5,
   "metadata": {},
   "outputs": [
    {
     "name": "stdout",
     "output_type": "stream",
     "text": [
      "Start Downloading Handbook of the Life Course\n",
      "Its Link: http://link.springer.com/openurl?genre=book&isbn=978-0-306-48247-2\n",
      "PDF Link: https://link.springer.com/content/pdf/10.1007%2Fb100507.pdf\n",
      "Downloading Begins...\n",
      "Get it!\n",
      "Calculating Size...\n",
      "Total Length: 4129819.\n",
      "Handbook of the Life Course Saved!\n",
      "Total: 1\n",
      "Used Time: 173.90693593025208\n",
      "Finished Downloading.\n",
      "\n"
     ]
    }
   ],
   "source": [
    "base_link = 'https://link.springer.com/content/pdf/'\n",
    "download_no = 0\n",
    "fail_list = []\n",
    "\n",
    "name = names[1]\n",
    "number = 1\n",
    "\n",
    "print(\"Start Downloading \" + name)\n",
    "current_link = links[number]\n",
    "print(\"Its Link: \" + current_link)\n",
    "\n",
    "enter_response = requests.get(current_link)\n",
    "pdf_link = base_link + enter_response.url.split('/')[-1] + '.pdf'\n",
    "print(\"PDF Link: \" + pdf_link)\n",
    "\n",
    "start = time.time()\n",
    "\n",
    "print(\"Downloading Begins...\")\n",
    "pdf_response = requests.get(pdf_link, stream = True)\n",
    "print(\"Get it!\")\n",
    "\n",
    "\n",
    "print(\"Calculating Size...\")\n",
    "total_length = int(pdf_response.headers.get('content-length'))\n",
    "print('Total Length: ' + str(total_length) + '.')\n",
    "\n",
    "\n",
    "\n",
    "with open('./Books/' + name + '.pdf', 'wb') as pdf_file:\n",
    "    for chunk in progress.bar(pdf_response.iter_content(chunk_size=100000), expected_size=(total_length/100000) + 1):\n",
    "        if chunk:\n",
    "            pdf_file.write(chunk)\n",
    "            pdf_file.flush()\n",
    "            \n",
    "        \n",
    "            \n",
    "print(name + ' Saved!')\n",
    "\n",
    "download_no += 1\n",
    "print(\"Total: \" + str(download_no))\n",
    "\n",
    "print(\"Used Time: \" + str(time.time() - start))\n",
    "print(\"Finished Downloading.\")\n",
    "print()\n",
    "\n",
    "time.sleep(0.1)"
   ]
  },
  {
   "cell_type": "code",
   "execution_count": 8,
   "metadata": {},
   "outputs": [],
   "source": []
  },
  {
   "cell_type": "code",
   "execution_count": null,
   "metadata": {},
   "outputs": [],
   "source": []
  }
 ],
 "metadata": {
  "kernelspec": {
   "display_name": "Python 3",
   "language": "python",
   "name": "python3"
  },
  "language_info": {
   "codemirror_mode": {
    "name": "ipython",
    "version": 3
   },
   "file_extension": ".py",
   "mimetype": "text/x-python",
   "name": "python",
   "nbconvert_exporter": "python",
   "pygments_lexer": "ipython3",
   "version": "3.7.4"
  }
 },
 "nbformat": 4,
 "nbformat_minor": 2
}
